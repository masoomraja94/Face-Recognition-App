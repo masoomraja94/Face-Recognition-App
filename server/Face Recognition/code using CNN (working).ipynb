{
 "cells": [
  {
   "cell_type": "code",
   "execution_count": 1,
   "metadata": {},
   "outputs": [
    {
     "name": "stderr",
     "output_type": "stream",
     "text": [
      "Using TensorFlow backend.\n"
     ]
    }
   ],
   "source": [
    "import numpy as np\n",
    "import os\n",
    "\n",
    "from sklearn.utils import shuffle\n",
    "from keras.utils import np_utils"
   ]
  },
  {
   "cell_type": "code",
   "execution_count": 2,
   "metadata": {},
   "outputs": [],
   "source": [
    "face_data=[]\n",
    "labels=[]\n",
    "dataset_path='./data/'\n",
    "\n",
    "class_id=0   #label for the given Title\n",
    "names={}     #Mapping between id<->name\n",
    "\n",
    "#Data Preparation\n",
    "for fx in os.listdir(dataset_path):\n",
    "    if fx.endswith('.npy'):\n",
    "        # Create a mapping between class_id and name\n",
    "        names[class_id]=fx[:-4]\n",
    "        data_item=np.load(dataset_path+fx)\n",
    "        face_data.append(data_item)\n",
    "        \n",
    "        #Create labels for the class\n",
    "        target=class_id*np.ones((data_item.shape[0],))\n",
    "        class_id+=1\n",
    "        labels.append(target)\n",
    "        \n",
    "face_dataset=np.concatenate(face_data,axis=0)\n",
    "face_labels=np.concatenate(labels,axis=0).reshape((-1,1))\n",
    "#trainset=np.concatenate((face_dataset,face_labels),axis=1)"
   ]
  },
  {
   "cell_type": "code",
   "execution_count": 3,
   "metadata": {},
   "outputs": [],
   "source": [
    "X,Y=shuffle(face_dataset,face_labels,random_state=1)"
   ]
  },
  {
   "cell_type": "code",
   "execution_count": 4,
   "metadata": {},
   "outputs": [],
   "source": [
    "X=X/255.0\n",
    "X=X.reshape((-1,224,224,3))"
   ]
  },
  {
   "cell_type": "code",
   "execution_count": 5,
   "metadata": {},
   "outputs": [],
   "source": [
    "Y=np_utils.to_categorical(Y)"
   ]
  },
  {
   "cell_type": "code",
   "execution_count": 6,
   "metadata": {},
   "outputs": [
    {
     "name": "stdout",
     "output_type": "stream",
     "text": [
      "(20, 224, 224, 3)\n",
      "(20, 2)\n"
     ]
    }
   ],
   "source": [
    "print(X.shape)\n",
    "print(Y.shape)"
   ]
  },
  {
   "cell_type": "code",
   "execution_count": 7,
   "metadata": {},
   "outputs": [],
   "source": [
    "from keras.layers import *\n",
    "from keras.models import Sequential"
   ]
  },
  {
   "cell_type": "code",
   "execution_count": 8,
   "metadata": {},
   "outputs": [
    {
     "name": "stdout",
     "output_type": "stream",
     "text": [
      "Model: \"sequential_1\"\n",
      "_________________________________________________________________\n",
      "Layer (type)                 Output Shape              Param #   \n",
      "=================================================================\n",
      "conv2d_1 (Conv2D)            (None, 222, 222, 32)      896       \n",
      "_________________________________________________________________\n",
      "max_pooling2d_1 (MaxPooling2 (None, 111, 111, 32)      0         \n",
      "_________________________________________________________________\n",
      "conv2d_2 (Conv2D)            (None, 109, 109, 64)      18496     \n",
      "_________________________________________________________________\n",
      "max_pooling2d_2 (MaxPooling2 (None, 54, 54, 64)        0         \n",
      "_________________________________________________________________\n",
      "conv2d_3 (Conv2D)            (None, 52, 52, 128)       73856     \n",
      "_________________________________________________________________\n",
      "max_pooling2d_3 (MaxPooling2 (None, 26, 26, 128)       0         \n",
      "_________________________________________________________________\n",
      "conv2d_4 (Conv2D)            (None, 24, 24, 128)       147584    \n",
      "_________________________________________________________________\n",
      "max_pooling2d_4 (MaxPooling2 (None, 12, 12, 128)       0         \n",
      "_________________________________________________________________\n",
      "flatten_1 (Flatten)          (None, 18432)             0         \n",
      "_________________________________________________________________\n",
      "dense_1 (Dense)              (None, 64)                1179712   \n",
      "_________________________________________________________________\n",
      "dense_2 (Dense)              (None, 2)                 130       \n",
      "=================================================================\n",
      "Total params: 1,420,674\n",
      "Trainable params: 1,420,674\n",
      "Non-trainable params: 0\n",
      "_________________________________________________________________\n"
     ]
    }
   ],
   "source": [
    "model=Sequential()\n",
    "model.add(Conv2D(32,(3,3),activation='relu',input_shape=(224,224,3)))\n",
    "model.add(MaxPool2D(2,2))\n",
    "model.add(Conv2D(64,(3,3),activation='relu'))\n",
    "model.add(MaxPool2D(2,2))\n",
    "model.add(Conv2D(128,(3,3),activation='relu'))\n",
    "model.add(MaxPool2D(2,2))\n",
    "model.add(Conv2D(128,(3,3),activation='relu'))\n",
    "model.add(MaxPool2D(2,2))\n",
    "model.add(Flatten())\n",
    "model.add(Dense(64,activation='relu'))\n",
    "model.add(Dense(Y.shape[1],activation='softmax'))\n",
    "model.summary()"
   ]
  },
  {
   "cell_type": "code",
   "execution_count": 9,
   "metadata": {},
   "outputs": [],
   "source": [
    "from keras import optimizers"
   ]
  },
  {
   "cell_type": "code",
   "execution_count": 10,
   "metadata": {},
   "outputs": [],
   "source": [
    "adam=optimizers.adam(lr=1e-4)\n",
    "model.compile(loss='categorical_crossentropy',optimizer=adam,metrics=['accuracy'])"
   ]
  },
  {
   "cell_type": "code",
   "execution_count": 11,
   "metadata": {},
   "outputs": [
    {
     "name": "stdout",
     "output_type": "stream",
     "text": [
      "Train on 16 samples, validate on 4 samples\n",
      "Epoch 1/10\n",
      "16/16 [==============================] - 17s 1s/step - loss: 0.7202 - accuracy: 0.3750 - val_loss: 0.6713 - val_accuracy: 0.7500\n",
      "Epoch 2/10\n",
      "16/16 [==============================] - 16s 1s/step - loss: 0.6692 - accuracy: 0.5625 - val_loss: 0.6378 - val_accuracy: 1.0000\n",
      "Epoch 3/10\n",
      "16/16 [==============================] - 16s 1s/step - loss: 0.6279 - accuracy: 0.9375 - val_loss: 0.5882 - val_accuracy: 1.0000\n",
      "Epoch 4/10\n",
      "16/16 [==============================] - 17s 1s/step - loss: 0.5706 - accuracy: 1.0000 - val_loss: 0.5188 - val_accuracy: 1.0000\n",
      "Epoch 5/10\n",
      "16/16 [==============================] - 16s 1s/step - loss: 0.4914 - accuracy: 1.0000 - val_loss: 0.4115 - val_accuracy: 1.0000\n",
      "Epoch 6/10\n",
      "16/16 [==============================] - 16s 1s/step - loss: 0.3861 - accuracy: 1.0000 - val_loss: 0.2700 - val_accuracy: 1.0000\n",
      "Epoch 7/10\n",
      "16/16 [==============================] - 18s 1s/step - loss: 0.2538 - accuracy: 0.9375 - val_loss: 0.1427 - val_accuracy: 1.0000\n",
      "Epoch 8/10\n",
      "16/16 [==============================] - 16s 1s/step - loss: 0.1346 - accuracy: 1.0000 - val_loss: 0.0609 - val_accuracy: 1.0000\n",
      "Epoch 9/10\n",
      "16/16 [==============================] - 16s 1s/step - loss: 0.1088 - accuracy: 0.9375 - val_loss: 0.0209 - val_accuracy: 1.0000\n",
      "Epoch 10/10\n",
      "16/16 [==============================] - 16s 1s/step - loss: 0.0381 - accuracy: 1.0000 - val_loss: 0.0402 - val_accuracy: 1.0000\n"
     ]
    },
    {
     "data": {
      "text/plain": [
       "<keras.callbacks.callbacks.History at 0x1bdbf963b48>"
      ]
     },
     "execution_count": 11,
     "metadata": {},
     "output_type": "execute_result"
    }
   ],
   "source": [
    "model.fit(X,Y,shuffle=True,epochs=10,batch_size=2,validation_split=0.2)"
   ]
  },
  {
   "cell_type": "code",
   "execution_count": 13,
   "metadata": {},
   "outputs": [],
   "source": [
    "with open(\"model.json\", \"w\") as file:\n",
    "    file.write(model.to_json())\n",
    "model.save_weights(\"model.h5\")"
   ]
  },
  {
   "cell_type": "code",
   "execution_count": 14,
   "metadata": {},
   "outputs": [],
   "source": [
    "from pathlib import Path"
   ]
  },
  {
   "cell_type": "code",
   "execution_count": 15,
   "metadata": {},
   "outputs": [],
   "source": [
    "count=0\n",
    "idx_to_name={}\n",
    "p=Path('data/')\n",
    "dirs=p.glob('*')\n",
    "for d in dirs:\n",
    "    idx_to_name[count]=str(d).split('\\\\')[-1][:-4]\n",
    "    count+=1"
   ]
  },
  {
   "cell_type": "code",
   "execution_count": 16,
   "metadata": {},
   "outputs": [
    {
     "data": {
      "text/plain": [
       "{0: 'imran', 1: 'masoom'}"
      ]
     },
     "execution_count": 16,
     "metadata": {},
     "output_type": "execute_result"
    }
   ],
   "source": [
    "idx_to_name"
   ]
  },
  {
   "cell_type": "code",
   "execution_count": null,
   "metadata": {},
   "outputs": [],
   "source": []
  }
 ],
 "metadata": {
  "kernelspec": {
   "display_name": "Python 3",
   "language": "python",
   "name": "python3"
  },
  "language_info": {
   "codemirror_mode": {
    "name": "ipython",
    "version": 3
   },
   "file_extension": ".py",
   "mimetype": "text/x-python",
   "name": "python",
   "nbconvert_exporter": "python",
   "pygments_lexer": "ipython3",
   "version": "3.7.8"
  }
 },
 "nbformat": 4,
 "nbformat_minor": 4
}
